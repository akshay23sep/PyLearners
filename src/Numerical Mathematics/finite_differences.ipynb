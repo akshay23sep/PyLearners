{
 "cells": [
  {
   "cell_type": "code",
   "execution_count": 1,
   "metadata": {},
   "outputs": [],
   "source": [
    "#Find the first and second derivative of the following function at x = 0.1\n",
    "#fun = 0.1*x**5 - 0.2*x**3 + 0.1*x - 0.2\n",
    "#Compare numerical solution at h = 0.1, 0.01, 0.001\n",
    "#The analytical differentiation yields \n",
    "      #  f'(0.1) = 0.09405\n",
    "       # f''(0.1) = -0.118"
   ]
  },
  {
   "cell_type": "code",
   "execution_count": 2,
   "metadata": {},
   "outputs": [
    {
     "name": "stdout",
     "output_type": "stream",
     "text": [
      "\t f'x, \t\t error, \tf''x, \t\t error\n",
      "FDS\t 0.093441\t 0.003036\t-0.129327\t-0.011327\n",
      "BDS\t 0.094621\t 0.004216\t-0.106533\t 0.011467\n",
      "CDS\t 0.000009\t-0.090396\t-0.117990\t 0.000010\n"
     ]
    }
   ],
   "source": [
    "#defining the function\n",
    "f = lambda x:0.1*x**5 - 0.2*x**3 + 0.1*x - 0.2\n",
    "#defining the value of x where we wan't to calculate differences\n",
    "#defining step size\n",
    "x = 0.1\n",
    "h = 0.01 \n",
    "#check the % error by varying h\n",
    "#defininin theoritical or analystical value for comparision\n",
    "df1 = 0.090405\n",
    "df2 = -0.118\n",
    "#Forward difference scheme\n",
    "print(\"\\t f'x, \\t\\t error, \\tf''x, \\t\\t error\")\n",
    "dff1 = (f(x+h) - f(x))/h\n",
    "dff2 = (f(x+2*h) - 2*f(x+h) + f(x)) /h**2\n",
    "print (\"FDS\\t% f\\t% f\\t% f\\t% f\"%(dff1, dff1 - df1, dff2, dff2 - df2))\n",
    "#Backward difference scheme\n",
    "dff1 = (f(x) - f (x-h))/h\n",
    "dff2 = (f(x) - 2*f(x-h) + f(x-2*h)) /h**2\n",
    "print (\"BDS\\t% f\\t% f\\t% f\\t% f\"%(dff1, dff1 - df1, dff2, dff2 - df2))\n",
    "#Central difference scheme\n",
    "dff1 = (f(x+h) - f (x-h))/2*h\n",
    "dff2 = (f(x+h) - 2*f(x) + f(x-h)) /h**2\n",
    "print (\"CDS\\t% f\\t% f\\t% f\\t% f\"%(dff1, dff1 - df1, dff2, dff2 - df2))"
   ]
  },
  {
   "cell_type": "code",
   "execution_count": null,
   "metadata": {},
   "outputs": [],
   "source": []
  }
 ],
 "metadata": {
  "kernelspec": {
   "display_name": "Python 3",
   "language": "python",
   "name": "python3"
  },
  "language_info": {
   "codemirror_mode": {
    "name": "ipython",
    "version": 3
   },
   "file_extension": ".py",
   "mimetype": "text/x-python",
   "name": "python",
   "nbconvert_exporter": "python",
   "pygments_lexer": "ipython3",
   "version": "3.7.4"
  }
 },
 "nbformat": 4,
 "nbformat_minor": 2
}
