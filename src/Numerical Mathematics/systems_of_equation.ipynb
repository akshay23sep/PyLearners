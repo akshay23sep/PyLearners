{
 "cells": [
  {
   "cell_type": "code",
   "execution_count": 8,
   "metadata": {},
   "outputs": [
    {
     "name": "stdout",
     "output_type": "stream",
     "text": [
      "Let me solve the equation Using Sympy:\n"
     ]
    },
    {
     "data": {
      "image/png": "[encoded data removed]",
      "text/latex": [
       "$\\displaystyle m + 3 n = 6$"
      ],
      "text/plain": [
       "m + 3⋅n = 6"
      ]
     },
     "metadata": {},
     "output_type": "display_data"
    },
    {
     "data": {
      "image/png": "[encoded data removed]",
      "text/latex": [
       "$\\displaystyle 2 m - 8 n = -12$"
      ],
      "text/plain": [
       "2⋅m - 8⋅n = -12"
      ]
     },
     "metadata": {},
     "output_type": "display_data"
    },
    {
     "data": {
      "image/png": "[encoded data removed]",
      "text/latex": [
       "$\\displaystyle \\left[\\begin{matrix}1 & 3 & 6\\\\2 & 8 & -12\\end{matrix}\\right]$"
      ],
      "text/plain": [
       "⎡1  3   6 ⎤\n",
       "⎢         ⎥\n",
       "⎣2  8  -12⎦"
      ]
     },
     "metadata": {},
     "output_type": "display_data"
    },
    {
     "data": {
      "image/png": "[encoded data removed]",
      "text/latex": [
       "$\\displaystyle \\left\\{ m : 42, \\  n : -12\\right\\}$"
      ],
      "text/plain": [
       "{m: 42, n: -12}"
      ]
     },
     "metadata": {},
     "output_type": "display_data"
    },
    {
     "name": "stdout",
     "output_type": "stream",
     "text": [
      "Now by Using Numpy:\n",
      "answer in float format\n",
      "x =  42.0\n",
      "y =  -12.0\n",
      "answer in integer format\n",
      "x = 42\n",
      "y = -12\n"
     ]
    }
   ],
   "source": [
    "from sympy.interactive import printing\n",
    "printing.init_printing(use_latex=True)\n",
    "from sympy import Eq, solve_linear_system, Matrix \n",
    "#Eq helps to solve equation\n",
    "from numpy import linalg\n",
    "import numpy as np\n",
    "import sympy as sp\n",
    "#we are gonna solve a simple equation using Sympy and then by Numpy\n",
    "print (\"Let me solve the equation Using Sympy:\")\n",
    "\n",
    "eqn1 = sp.Function ('eqn1')\n",
    "eqn2 = sp.Function ('eqn2')\n",
    "\n",
    "m, n = sp.symbols('m n')\n",
    "\n",
    "eqn1 = Eq(m+3*n,6)\n",
    "eqn2 = Eq(2*m-8*n, -12)\n",
    "\n",
    "display(eqn1)\n",
    "display(eqn2)\n",
    "\n",
    "row1 = [1, 3, 6]\n",
    "row2 = [2, 8, -12]\n",
    "\n",
    "system = Matrix ((row1,row2))\n",
    "display (system)\n",
    "\n",
    "display(solve_linear_system (system,m,n))\n",
    "\n",
    "\n",
    "print (\"Now by Using Numpy:\")\n",
    "nrow1 =  (1,3)\n",
    "nrow2 =  (2,8)   \n",
    "\n",
    "nmat = np.array([nrow1, nrow2])\n",
    "constants = np.array([6,-12])\n",
    "answer = linalg.solve(nmat,constants)\n",
    "\n",
    "xval = answer [0]\n",
    "yval = answer [1]\n",
    "\n",
    "print (\"answer in float format\")\n",
    "\n",
    "print (\"x = \",xval)\n",
    "print (\"y = \",yval)\n",
    "#you can force your answer to be interger by using 'int' function'\n",
    "x1val = int(answer[0])\n",
    "y1val = int(answer[1])\n",
    "\n",
    "print (\"answer in integer format\")\n",
    "print (\"x =\", x1val)\n",
    "print (\"y =\",y1val)\n",
    "\n",
    "#display (answer)\n",
    "\n",
    "\n",
    "#display (nmat)\n",
    "#display (constants)\n",
    "\n",
    "\n",
    "\n",
    "\n"
   ]
  },
  {
   "cell_type": "code",
   "execution_count": null,
   "metadata": {},
   "outputs": [],
   "source": []
  },
  {
   "cell_type": "code",
   "execution_count": null,
   "metadata": {},
   "outputs": [],
   "source": []
  },
  {
   "cell_type": "code",
   "execution_count": null,
   "metadata": {},
   "outputs": [],
   "source": []
  },
  {
   "cell_type": "code",
   "execution_count": null,
   "metadata": {},
   "outputs": [],
   "source": []
  }
 ],
 "metadata": {
  "kernelspec": {
   "display_name": "Python 3",
   "language": "python",
   "name": "python3"
  },
  "language_info": {
   "codemirror_mode": {
    "name": "ipython",
    "version": 3
   },
   "file_extension": ".py",
   "mimetype": "text/x-python",
   "name": "python",
   "nbconvert_exporter": "python",
   "pygments_lexer": "ipython3",
   "version": "3.7.4"
  }
 },
 "nbformat": 4,
 "nbformat_minor": 2
}
